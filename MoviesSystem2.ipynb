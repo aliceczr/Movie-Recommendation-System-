{
  "nbformat": 4,
  "nbformat_minor": 0,
  "metadata": {
    "colab": {
      "provenance": [],
      "authorship_tag": "ABX9TyPO1mlDOE8zMBBnj+QfAXIX",
      "include_colab_link": true
    },
    "kernelspec": {
      "name": "python3",
      "display_name": "Python 3"
    },
    "language_info": {
      "name": "python"
    }
  },
  "cells": [
    {
      "cell_type": "markdown",
      "metadata": {
        "id": "view-in-github",
        "colab_type": "text"
      },
      "source": [
        "<a href=\"https://colab.research.google.com/github/aliceczr/Movie-Recommendation-System-/blob/main/MoviesSystem2.ipynb\" target=\"_parent\"><img src=\"https://colab.research.google.com/assets/colab-badge.svg\" alt=\"Open In Colab\"/></a>"
      ]
    },
    {
      "cell_type": "code",
      "execution_count": null,
      "metadata": {
        "id": "fooh2zs1T_fS"
      },
      "outputs": [],
      "source": [
        "import pandas as pd\n",
        "import numpy as np"
      ]
    },
    {
      "cell_type": "code",
      "source": [
        "from google.colab import drive\n",
        "drive.mount('/content/drive')\n"
      ],
      "metadata": {
        "colab": {
          "base_uri": "https://localhost:8080/"
        },
        "id": "4tfXaJyGUG6l",
        "outputId": "1312f94a-9ca0-4723-ba5c-001d5dfd9ec4"
      },
      "execution_count": null,
      "outputs": [
        {
          "output_type": "stream",
          "name": "stdout",
          "text": [
            "Mounted at /content/drive\n"
          ]
        }
      ]
    },
    {
      "cell_type": "code",
      "source": [
        "caminho_csv = '/content/drive/My Drive/movies2/movies2.CSV'"
      ],
      "metadata": {
        "id": "fNfHy0g9UJXe"
      },
      "execution_count": null,
      "outputs": []
    },
    {
      "cell_type": "code",
      "source": [
        "movies = pd.read_csv(caminho_csv,lineterminator='\\n')\n",
        "\n"
      ],
      "metadata": {
        "id": "u8SUmGmDUgWf"
      },
      "execution_count": null,
      "outputs": []
    },
    {
      "cell_type": "code",
      "source": [
        "print('movies', movies.shape)"
      ],
      "metadata": {
        "id": "SntnZDe3XOKw"
      },
      "execution_count": null,
      "outputs": []
    },
    {
      "cell_type": "code",
      "source": [
        "print(movies.head())"
      ],
      "metadata": {
        "id": "TG8TR5MMUhCg"
      },
      "execution_count": null,
      "outputs": []
    },
    {
      "cell_type": "code",
      "source": [
        "columns_to_keep = ['id', 'title','genres', 'original_language','overview']"
      ],
      "metadata": {
        "id": "6Fi9rYNrY-b0"
      },
      "execution_count": null,
      "outputs": []
    },
    {
      "cell_type": "code",
      "source": [
        "movies_cleaned = pd.read_csv(caminho_csv, usecols=columns_to_keep, lineterminator='\\n')"
      ],
      "metadata": {
        "id": "eHXhIbxXZTx9"
      },
      "execution_count": null,
      "outputs": []
    },
    {
      "cell_type": "code",
      "source": [
        "print(movies_cleaned.head())"
      ],
      "metadata": {
        "id": "CDIYAkS0ZcvF"
      },
      "execution_count": null,
      "outputs": []
    },
    {
      "cell_type": "code",
      "source": [
        "from sklearn.feature_extraction.text import TfidfVectorizer\n",
        "\n",
        "tfv = TfidfVectorizer(min_df=3, max_features= None,\n",
        "                      strip_accents='unicode', analyzer='word', token_pattern=r'\\w{1,}',\n",
        "                      ngram_range=(1,3),\n",
        "                      stop_words = 'english')\n",
        "\n",
        "movies_cleaned['overview']= movies_cleaned['overview'].fillna('')"
      ],
      "metadata": {
        "id": "HQil8QNbXnEI"
      },
      "execution_count": null,
      "outputs": []
    },
    {
      "cell_type": "code",
      "source": [
        "tfv_matrix= tfv.fit_transform(movies_cleaned['overview'])"
      ],
      "metadata": {
        "id": "z9zhSLF7Zy5m"
      },
      "execution_count": null,
      "outputs": []
    },
    {
      "cell_type": "code",
      "source": [
        "tfv_matrix"
      ],
      "metadata": {
        "colab": {
          "base_uri": "https://localhost:8080/"
        },
        "id": "QtrqjDMYZ1Wh",
        "outputId": "c10a1abc-34ee-4f1d-bccb-f7c5a1ab8b43"
      },
      "execution_count": null,
      "outputs": [
        {
          "output_type": "execute_result",
          "data": {
            "text/plain": [
              "<10000x18060 sparse matrix of type '<class 'numpy.float64'>'\n",
              "\twith 262191 stored elements in Compressed Sparse Row format>"
            ]
          },
          "metadata": {},
          "execution_count": 28
        }
      ]
    },
    {
      "cell_type": "code",
      "source": [
        "tfv_matrix.shape"
      ],
      "metadata": {
        "colab": {
          "base_uri": "https://localhost:8080/"
        },
        "id": "DwlIjWoNZ305",
        "outputId": "b48a50fa-03dc-43b8-c9c5-ba7b938767ad"
      },
      "execution_count": null,
      "outputs": [
        {
          "output_type": "execute_result",
          "data": {
            "text/plain": [
              "(10000, 18060)"
            ]
          },
          "metadata": {},
          "execution_count": 29
        }
      ]
    },
    {
      "cell_type": "code",
      "source": [
        "from sklearn.metrics.pairwise import sigmoid_kernel"
      ],
      "metadata": {
        "id": "74Uc8uCCZ4jR"
      },
      "execution_count": null,
      "outputs": []
    },
    {
      "cell_type": "code",
      "source": [
        "sig = sigmoid_kernel(tfv_matrix,tfv_matrix)"
      ],
      "metadata": {
        "id": "jKoFUcaDZ-HH"
      },
      "execution_count": null,
      "outputs": []
    },
    {
      "cell_type": "code",
      "source": [
        "sig[0]"
      ],
      "metadata": {
        "colab": {
          "base_uri": "https://localhost:8080/"
        },
        "id": "SESiZ26DaTuH",
        "outputId": "3aba178d-201d-4cc6-c54e-d2514495d171"
      },
      "execution_count": null,
      "outputs": [
        {
          "output_type": "execute_result",
          "data": {
            "text/plain": [
              "array([0.76161741, 0.76159464, 0.76159416, ..., 0.76159427, 0.76159416,\n",
              "       0.76159416])"
            ]
          },
          "metadata": {},
          "execution_count": 32
        }
      ]
    },
    {
      "cell_type": "code",
      "source": [
        "indices= pd.Series(movies_cleaned.index, index=movies_cleaned['title']).drop_duplicates()"
      ],
      "metadata": {
        "id": "EnJGf3YFaXaA"
      },
      "execution_count": null,
      "outputs": []
    },
    {
      "cell_type": "code",
      "source": [
        "indices"
      ],
      "metadata": {
        "id": "A73XVIy8abhd"
      },
      "execution_count": null,
      "outputs": []
    },
    {
      "cell_type": "code",
      "source": [
        "def give_recommendation(title, sig=sig):\n",
        "  idx = indices[title]\n",
        "  sig_scores = list(enumerate(sig[idx]))\n",
        "  sig_scores = sorted(sig_scores, key=lambda x:x[1], reverse=True)\n",
        "  sig_scores = sig_scores[1:8]\n",
        "  movie_indices = [i[0] for i in sig_scores]\n",
        "  return movies_cleaned['title'].iloc[movie_indices]"
      ],
      "metadata": {
        "id": "3YtFzjNQadcQ"
      },
      "execution_count": null,
      "outputs": []
    },
    {
      "cell_type": "code",
      "source": [
        "give_recommendation('Clueless')"
      ],
      "metadata": {
        "id": "8aZQmkZBagvY"
      },
      "execution_count": null,
      "outputs": []
    }
  ]
}